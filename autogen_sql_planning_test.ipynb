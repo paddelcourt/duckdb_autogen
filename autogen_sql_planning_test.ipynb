{
 "cells": [
  {
   "cell_type": "markdown",
   "metadata": {},
   "source": [
    "# Single SQL Agent coding"
   ]
  },
  {
   "cell_type": "code",
   "execution_count": 23,
   "metadata": {},
   "outputs": [],
   "source": [
    "#feel free to put it in your model of choice\n",
    "llm_config={\"model\": \"gpt-4-turbo\"}"
   ]
  },
  {
   "cell_type": "code",
   "execution_count": 24,
   "metadata": {},
   "outputs": [],
   "source": [
    "import pandas as pd"
   ]
  },
  {
   "cell_type": "code",
   "execution_count": 25,
   "metadata": {},
   "outputs": [],
   "source": [
    "# create a config.py file to store your openai key\n",
    "from config import openai_key\n",
    "llm_config = {\"model\": \"gpt-4o-mini\", \"api_key\": openai_key}"
   ]
  },
  {
   "cell_type": "code",
   "execution_count": 26,
   "metadata": {},
   "outputs": [
    {
     "name": "stdout",
     "output_type": "stream",
     "text": [
      "exit_code=0 output='Hello, World!\\n' output_files=[]\n"
     ]
    }
   ],
   "source": [
    "from autogen.coding import CodeBlock\n",
    "from autogen.coding.jupyter import JupyterCodeExecutor, LocalJupyterServer\n",
    "\n",
    "with LocalJupyterServer() as server:\n",
    "    executor = JupyterCodeExecutor(server)\n",
    "    print(\n",
    "        executor.execute_code_blocks(\n",
    "            code_blocks=[\n",
    "                CodeBlock(language=\"python\", code=\"print('Hello, World!')\"),\n",
    "            ]\n",
    "        )\n",
    "    )"
   ]
  },
  {
   "cell_type": "code",
   "execution_count": 27,
   "metadata": {},
   "outputs": [],
   "source": [
    "import duckdb"
   ]
  },
  {
   "cell_type": "code",
   "execution_count": 28,
   "metadata": {},
   "outputs": [],
   "source": [
    "schema = duckdb.sql(\"DESCRIBE SELECT * FROM 'yellow_tripdata_2024-01.parquet'\")"
   ]
  },
  {
   "cell_type": "code",
   "execution_count": 29,
   "metadata": {},
   "outputs": [
    {
     "data": {
      "text/plain": [
       "┌───────────────────────┬─────────────┬─────────┬─────────┬─────────┬─────────┐\n",
       "│      column_name      │ column_type │  null   │   key   │ default │  extra  │\n",
       "│        varchar        │   varchar   │ varchar │ varchar │ varchar │ varchar │\n",
       "├───────────────────────┼─────────────┼─────────┼─────────┼─────────┼─────────┤\n",
       "│ VendorID              │ INTEGER     │ YES     │ NULL    │ NULL    │ NULL    │\n",
       "│ tpep_pickup_datetime  │ TIMESTAMP   │ YES     │ NULL    │ NULL    │ NULL    │\n",
       "│ tpep_dropoff_datetime │ TIMESTAMP   │ YES     │ NULL    │ NULL    │ NULL    │\n",
       "│ passenger_count       │ BIGINT      │ YES     │ NULL    │ NULL    │ NULL    │\n",
       "│ trip_distance         │ DOUBLE      │ YES     │ NULL    │ NULL    │ NULL    │\n",
       "│ RatecodeID            │ BIGINT      │ YES     │ NULL    │ NULL    │ NULL    │\n",
       "│ store_and_fwd_flag    │ VARCHAR     │ YES     │ NULL    │ NULL    │ NULL    │\n",
       "│ PULocationID          │ INTEGER     │ YES     │ NULL    │ NULL    │ NULL    │\n",
       "│ DOLocationID          │ INTEGER     │ YES     │ NULL    │ NULL    │ NULL    │\n",
       "│ payment_type          │ BIGINT      │ YES     │ NULL    │ NULL    │ NULL    │\n",
       "│ fare_amount           │ DOUBLE      │ YES     │ NULL    │ NULL    │ NULL    │\n",
       "│ extra                 │ DOUBLE      │ YES     │ NULL    │ NULL    │ NULL    │\n",
       "│ mta_tax               │ DOUBLE      │ YES     │ NULL    │ NULL    │ NULL    │\n",
       "│ tip_amount            │ DOUBLE      │ YES     │ NULL    │ NULL    │ NULL    │\n",
       "│ tolls_amount          │ DOUBLE      │ YES     │ NULL    │ NULL    │ NULL    │\n",
       "│ improvement_surcharge │ DOUBLE      │ YES     │ NULL    │ NULL    │ NULL    │\n",
       "│ total_amount          │ DOUBLE      │ YES     │ NULL    │ NULL    │ NULL    │\n",
       "│ congestion_surcharge  │ DOUBLE      │ YES     │ NULL    │ NULL    │ NULL    │\n",
       "│ Airport_fee           │ DOUBLE      │ YES     │ NULL    │ NULL    │ NULL    │\n",
       "├───────────────────────┴─────────────┴─────────┴─────────┴─────────┴─────────┤\n",
       "│ 19 rows                                                           6 columns │\n",
       "└─────────────────────────────────────────────────────────────────────────────┘"
      ]
     },
     "execution_count": 29,
     "metadata": {},
     "output_type": "execute_result"
    }
   ],
   "source": [
    "schema"
   ]
  },
  {
   "cell_type": "code",
   "execution_count": 30,
   "metadata": {},
   "outputs": [],
   "source": [
    "from autogen import ConversableAgent, AssistantAgent"
   ]
  },
  {
   "cell_type": "code",
   "execution_count": 31,
   "metadata": {},
   "outputs": [],
   "source": [
    "message = f\"Here is the schema of the parquet file yellow_tripdata_2024-01.parquet: {schema}. Create a SQL code to get the whatever the user requests and return the results with the associated function..\""
   ]
  },
  {
   "cell_type": "code",
   "execution_count": 32,
   "metadata": {},
   "outputs": [],
   "source": [
    "code_sql_agent_system_message =  \"You are a a helpful assistant that generates Postgres SQL code based on user request. Make sure you query from the parquet file, such as DailyRevenue.parquet instead of DailyRevenue in the SQL query as this is duckdb.\" + message\n",
    "\n",
    "\n",
    "code_sql_agent_system_message += \"\"\"You have access to the following user defined functions. They can be accessed from the module called `functions` by their function names.\n",
    "\n",
    "    For example, if there was a function called `foo` you could import it by writing `from functions import foo`.\n",
    "    Here is the function you have access to:\n",
    "    def duckdb_query(query):\n",
    "        import duckdb\n",
    "        result = duckdb.sql('(query)).to_df()\n",
    "        print(result)\n",
    "    \"\"\"\n"
   ]
  },
  {
   "cell_type": "code",
   "execution_count": 34,
   "metadata": {},
   "outputs": [
    {
     "name": "stdout",
     "output_type": "stream",
     "text": [
      "[autogen.oai.client: 09-18 01:34:48] {184} WARNING - The API key specified is not a valid OpenAI format; it won't work with the OpenAI-hosted model.\n"
     ]
    }
   ],
   "source": [
    "code_sql_agent = AssistantAgent(\n",
    "    name=\"code_sql_agent\",\n",
    "    llm_config=llm_config,\n",
    "    code_execution_config=False,\n",
    "    human_input_mode=\"NEVER\",\n",
    "    system_message=code_sql_agent_system_message\n",
    ")"
   ]
  },
  {
   "cell_type": "code",
   "execution_count": 35,
   "metadata": {},
   "outputs": [],
   "source": [
    "def duckdb_query(query):\n",
    "    import duckdb\n",
    "    result = duckdb.sql(f\"{query}\").to_df()\n",
    "    print(result)\n",
    "    "
   ]
  },
  {
   "cell_type": "code",
   "execution_count": 36,
   "metadata": {},
   "outputs": [],
   "source": [
    "server = LocalJupyterServer()\n",
    "\n",
    "\n",
    "\n",
    "code_executor_agent = ConversableAgent(\n",
    "    name=\"code_executor_agent\",\n",
    "    llm_config=False,\n",
    "    code_execution_config={\n",
    "        \"executor\": JupyterCodeExecutor(server, output_dir=\"coding\"),\n",
    "    },\n",
    "    human_input_mode=\"ALWAYS\",\n",
    "    default_auto_reply=\n",
    "    \"Please continue. If everything is done, reply 'TERMINATE'.\",\n",
    ")"
   ]
  },
  {
   "cell_type": "code",
   "execution_count": 37,
   "metadata": {},
   "outputs": [
    {
     "data": {
      "text/plain": [
       "\"You are a a helpful assistant that generates Postgres SQL code based on user request. Make sure you query from the parquet file, such as DailyRevenue.parquet instead of DailyRevenue in the SQL query as this is duckdb.Here is the schema of the parquet file yellow_tripdata_2024-01.parquet: ┌───────────────────────┬─────────────┬─────────┬─────────┬─────────┬─────────┐\\n│      column_name      │ column_type │  null   │   key   │ default │  extra  │\\n│        varchar        │   varchar   │ varchar │ varchar │ varchar │ varchar │\\n├───────────────────────┼─────────────┼─────────┼─────────┼─────────┼─────────┤\\n│ VendorID              │ INTEGER     │ YES     │ NULL    │ NULL    │ NULL    │\\n│ tpep_pickup_datetime  │ TIMESTAMP   │ YES     │ NULL    │ NULL    │ NULL    │\\n│ tpep_dropoff_datetime │ TIMESTAMP   │ YES     │ NULL    │ NULL    │ NULL    │\\n│ passenger_count       │ BIGINT      │ YES     │ NULL    │ NULL    │ NULL    │\\n│ trip_distance         │ DOUBLE      │ YES     │ NULL    │ NULL    │ NULL    │\\n│ RatecodeID            │ BIGINT      │ YES     │ NULL    │ NULL    │ NULL    │\\n│ store_and_fwd_flag    │ VARCHAR     │ YES     │ NULL    │ NULL    │ NULL    │\\n│ PULocationID          │ INTEGER     │ YES     │ NULL    │ NULL    │ NULL    │\\n│ DOLocationID          │ INTEGER     │ YES     │ NULL    │ NULL    │ NULL    │\\n│ payment_type          │ BIGINT      │ YES     │ NULL    │ NULL    │ NULL    │\\n│ fare_amount           │ DOUBLE      │ YES     │ NULL    │ NULL    │ NULL    │\\n│ extra                 │ DOUBLE      │ YES     │ NULL    │ NULL    │ NULL    │\\n│ mta_tax               │ DOUBLE      │ YES     │ NULL    │ NULL    │ NULL    │\\n│ tip_amount            │ DOUBLE      │ YES     │ NULL    │ NULL    │ NULL    │\\n│ tolls_amount          │ DOUBLE      │ YES     │ NULL    │ NULL    │ NULL    │\\n│ improvement_surcharge │ DOUBLE      │ YES     │ NULL    │ NULL    │ NULL    │\\n│ total_amount          │ DOUBLE      │ YES     │ NULL    │ NULL    │ NULL    │\\n│ congestion_surcharge  │ DOUBLE      │ YES     │ NULL    │ NULL    │ NULL    │\\n│ Airport_fee           │ DOUBLE      │ YES     │ NULL    │ NULL    │ NULL    │\\n├───────────────────────┴─────────────┴─────────┴─────────┴─────────┴─────────┤\\n│ 19 rows                                                           6 columns │\\n└─────────────────────────────────────────────────────────────────────────────┘\\n. Create a SQL code to get the whatever the user requests and return the results with the associated function..You have access to the following user defined functions. They can be accessed from the module called `functions` by their function names.\\n\\n    For example, if there was a function called `foo` you could import it by writing `from functions import foo`.\\n    Here is the function you have access to:\\n    def duckdb_query(query):\\n        import duckdb\\n        result = duckdb.sql('(query)).to_df()\\n        print(result)\\n    \""
      ]
     },
     "execution_count": 37,
     "metadata": {},
     "output_type": "execute_result"
    }
   ],
   "source": [
    "code_sql_agent_system_message"
   ]
  },
  {
   "cell_type": "code",
   "execution_count": null,
   "metadata": {},
   "outputs": [],
   "source": [
    "#Input your query in the message section\n",
    "\n",
    "chat_result = code_executor_agent.initiate_chat(\n",
    "    code_sql_agent,\n",
    "    message=\"\"\"\n",
    "    Please generate me the average pickup time for a daily basis for the parquet file yellow_tripdata_2024-01.parquet for DuckDB.?\n",
    "    \n",
    "    Here is an example query that works for DuckDB based on the following question:\n",
    "\n",
    "    {Please generate me the average number of rides a day on split by weekday basis for the parquet file yellow_tripdata_2024-01.parquet for DuckDB. Can you split it by each day of the week?}\n",
    "\n",
    "    Here was the query:\n",
    "\n",
    "    {SELECT \n",
    "        EXTRACT(DOW FROM tpep_pickup_datetime) AS weekday,\n",
    "        COUNT(*)::FLOAT / COUNT(DISTINCT CAST(tpep_pickup_datetime AS DATE)) AS average_rides\n",
    "    FROM \n",
    "        read_parquet('yellow_tripdata_2024-01.parquet')\n",
    "    GROUP BY \n",
    "        weekday\n",
    "    ORDER BY \n",
    "        weekday;\n",
    "    }\n",
    "\n",
    "    Make sure to use the duckdb_query function to execute the query.\n",
    "    \n",
    "     \"\"\"\n",
    "\n",
    ")"
   ]
  },
  {
   "cell_type": "markdown",
   "metadata": {},
   "source": [
    "# Group Chat"
   ]
  },
  {
   "cell_type": "code",
   "execution_count": 11,
   "metadata": {},
   "outputs": [],
   "source": [
    "task = \"\"\"\n",
    "\n",
    "Please select the appropriate metrics for a GTM strategy and then breakdown the new york taxi market data for January 2024 based on the parquet file yellow_tripdata_2024-01.parquet with SQL. Then create a GTM strategy blog postfor how to break in to the market as a ride sharing app.\n",
    "\n",
    "Here is an example query that works for DuckDB based on the following question:\n",
    "\n",
    "{Please generate me the average number of rides a day on split by weekday basis for the parquet file yellow_tripdata_2024-01.parquet for DuckDB. Can you split it by each day of the week?}\n",
    "\n",
    "Here was the query:\n",
    "\n",
    "{SELECT \n",
    "    EXTRACT(DOW FROM tpep_pickup_datetime) AS weekday,\n",
    "    COUNT(*)::FLOAT / COUNT(DISTINCT CAST(tpep_pickup_datetime AS DATE)) AS average_rides\n",
    "FROM \n",
    "    read_parquet('yellow_tripdata_2024-01.parquet')\n",
    "GROUP BY \n",
    "    weekday\n",
    "ORDER BY \n",
    "    weekday;\n",
    "}\n",
    "\n",
    "Make sure to use the duckdb_query function to execute the query.\n",
    "\n",
    "\"\"\""
   ]
  },
  {
   "cell_type": "code",
   "execution_count": 12,
   "metadata": {},
   "outputs": [],
   "source": [
    "import autogen"
   ]
  },
  {
   "cell_type": "code",
   "execution_count": 13,
   "metadata": {},
   "outputs": [
    {
     "name": "stdout",
     "output_type": "stream",
     "text": [
      "[autogen.oai.client: 09-18 01:20:11] {184} WARNING - The API key specified is not a valid OpenAI format; it won't work with the OpenAI-hosted model.\n"
     ]
    }
   ],
   "source": [
    "server = LocalJupyterServer()\n",
    "\n",
    "user_proxy = autogen.ConversableAgent(\n",
    "    name=\"Admin\",\n",
    "    system_message=\"Give the task, and send \"\n",
    "    \"instructions to writer to refine the blog post.\",\n",
    "    code_execution_config=False,\n",
    "    llm_config=llm_config,\n",
    "    human_input_mode=\"ALWAYS\",\n",
    ")"
   ]
  },
  {
   "cell_type": "code",
   "execution_count": 14,
   "metadata": {},
   "outputs": [],
   "source": [
    "code_planner_agent_system_message = message + \"\"\"You have access to the following user defined functions. They can be accessed from the module called `functions` by their function names.\n",
    "\n",
    "    \n",
    "    Here is the function that you should use:\n",
    "    \n",
    "    def duckdb_query(query):\n",
    "        import duckdb\n",
    "        result = duckdb.sql((query)).to_df()\n",
    "        print(result)\n",
    "    \"\"\""
   ]
  },
  {
   "cell_type": "code",
   "execution_count": 15,
   "metadata": {},
   "outputs": [
    {
     "name": "stdout",
     "output_type": "stream",
     "text": [
      "[autogen.oai.client: 09-18 01:20:14] {184} WARNING - The API key specified is not a valid OpenAI format; it won't work with the OpenAI-hosted model.\n"
     ]
    }
   ],
   "source": [
    "planner = autogen.ConversableAgent(\n",
    "    name=\"Planner\",\n",
    "    system_message=\"Given a task, please determine \"\n",
    "    \"what information is needed to complete the task. \"\n",
    "    \"Please note that the information will all be retrieved using\"\n",
    "    \"Python code with SQL. Please only suggest information that can be \"\n",
    "    \"retrieved using Python code with SQL. \"\n",
    "    \"After each step is done by others, check the progress and \"\n",
    "    \"instruct the remaining steps. If a step fails, try to \"\n",
    "    \"workaround. Here is the schema of the database: {schema}\",\n",
    "\n",
    "    description=\"Planner. Given a task, determine what \"\n",
    "    \"information is needed to complete the task. \"\n",
    "    \"After each step is done by others, check the progress and \"\n",
    "    \"instruct the remaining steps\",\n",
    "    llm_config=llm_config,\n",
    ")"
   ]
  },
  {
   "cell_type": "code",
   "execution_count": 16,
   "metadata": {},
   "outputs": [
    {
     "name": "stdout",
     "output_type": "stream",
     "text": [
      "[autogen.oai.client: 09-18 01:20:15] {184} WARNING - The API key specified is not a valid OpenAI format; it won't work with the OpenAI-hosted model.\n"
     ]
    }
   ],
   "source": [
    "engineer = autogen.AssistantAgent(\n",
    "    name=\"Engineer\",\n",
    "    llm_config=llm_config,\n",
    "    system_message = code_planner_agent_system_message,\n",
    "    description=\"An engineer that writes Python and/or SQL code and then function on the plan and schema provided by the planner.\",\n",
    ")"
   ]
  },
  {
   "cell_type": "code",
   "execution_count": 17,
   "metadata": {},
   "outputs": [],
   "source": [
    "executor = autogen.ConversableAgent(\n",
    "    name=\"Executor\",\n",
    "    system_message=\"Execute the code written by the \"\n",
    "    \"engineer and report the result.\",\n",
    "    human_input_mode=\"NEVER\",\n",
    "    code_execution_config={\n",
    "        \"executor\": JupyterCodeExecutor(server, output_dir=\"coding\"),\n",
    "    },\n",
    ")"
   ]
  },
  {
   "cell_type": "code",
   "execution_count": 18,
   "metadata": {},
   "outputs": [
    {
     "name": "stdout",
     "output_type": "stream",
     "text": [
      "[autogen.oai.client: 09-18 01:20:16] {184} WARNING - The API key specified is not a valid OpenAI format; it won't work with the OpenAI-hosted model.\n"
     ]
    }
   ],
   "source": [
    "writer = autogen.ConversableAgent(\n",
    "    name=\"Writer\",\n",
    "    llm_config=llm_config,\n",
    "    system_message=\"Writer.\"\n",
    "    \"Please write blogs in markdown format (with relevant titles)\"\n",
    "    \" and put the content in pseudo ```md``` code block. \"\n",
    "    \"You take feedback from the admin and refine your blog.\",\n",
    "    description=\"Writer.\"\n",
    "    \"Write blogs based on the code execution results and take \"\n",
    "    \"feedback from the admin to refine the blog.\"\n",
    ")"
   ]
  },
  {
   "cell_type": "code",
   "execution_count": 19,
   "metadata": {},
   "outputs": [],
   "source": [
    "groupchat = autogen.GroupChat(\n",
    "    agents=[user_proxy, engineer, writer, executor, planner],\n",
    "    messages=[],\n",
    "    max_round=10,\n",
    ")"
   ]
  },
  {
   "cell_type": "code",
   "execution_count": 20,
   "metadata": {},
   "outputs": [
    {
     "name": "stdout",
     "output_type": "stream",
     "text": [
      "[autogen.oai.client: 09-18 01:20:18] {184} WARNING - The API key specified is not a valid OpenAI format; it won't work with the OpenAI-hosted model.\n"
     ]
    }
   ],
   "source": [
    "manager = autogen.GroupChatManager(\n",
    "    groupchat=groupchat, llm_config=llm_config\n",
    ")\n"
   ]
  },
  {
   "cell_type": "code",
   "execution_count": 21,
   "metadata": {},
   "outputs": [],
   "source": [
    "groupchat = autogen.GroupChat(\n",
    "    agents=[user_proxy, engineer, writer, executor, planner],\n",
    "    messages=[],\n",
    "    max_round=20,\n",
    "    allowed_or_disallowed_speaker_transitions={\n",
    "        user_proxy: [engineer, writer, executor, planner],\n",
    "        engineer: [executor],\n",
    "        writer: [user_proxy, planner],\n",
    "        executor: [user_proxy, engineer, planner],\n",
    "        planner: [engineer, writer],\n",
    "    },\n",
    "    speaker_transitions_type=\"allowed\",\n",
    ")"
   ]
  },
  {
   "cell_type": "code",
   "execution_count": 22,
   "metadata": {},
   "outputs": [
    {
     "name": "stdout",
     "output_type": "stream",
     "text": [
      "[autogen.oai.client: 09-18 01:20:21] {184} WARNING - The API key specified is not a valid OpenAI format; it won't work with the OpenAI-hosted model.\n",
      "\u001b[33mAdmin\u001b[0m (to chat_manager):\n",
      "\n",
      "\n",
      "\n",
      "Please select the appropriate metrics for a GTM strategy and then breakdown the new york taxi market data for January 2024 based on the parquet file yellow_tripdata_2024-01.parquet with SQL. Then create a GTM strategy blog postfor how to break in to the market as a ride sharing app.\n",
      "\n",
      "Here is an example query that works for DuckDB based on the following question:\n",
      "\n",
      "{Please generate me the average number of rides a day on split by weekday basis for the parquet file yellow_tripdata_2024-01.parquet for DuckDB. Can you split it by each day of the week?}\n",
      "\n",
      "Here was the query:\n",
      "\n",
      "{SELECT \n",
      "    EXTRACT(DOW FROM tpep_pickup_datetime) AS weekday,\n",
      "    COUNT(*)::FLOAT / COUNT(DISTINCT CAST(tpep_pickup_datetime AS DATE)) AS average_rides\n",
      "FROM \n",
      "    read_parquet('yellow_tripdata_2024-01.parquet')\n",
      "GROUP BY \n",
      "    weekday\n",
      "ORDER BY \n",
      "    weekday;\n",
      "}\n",
      "\n",
      "Make sure to use the duckdb_query function to execute the query.\n",
      "\n",
      "\n",
      "\n",
      "--------------------------------------------------------------------------------\n"
     ]
    },
    {
     "name": "stdout",
     "output_type": "stream",
     "text": [
      "[autogen.oai.client: 09-18 01:20:21] {184} WARNING - The API key specified is not a valid OpenAI format; it won't work with the OpenAI-hosted model.\n",
      "\u001b[32m\n",
      "Next speaker: Engineer\n",
      "\u001b[0m\n",
      "\u001b[33mEngineer\u001b[0m (to chat_manager):\n",
      "\n",
      "Here’s a SQL query to breakdown the New York taxi market data for January 2024. This example will extract the total number of rides, average fare amount, and total revenue (sum of fare amount) per day. Then, I will provide you with a GTM strategy blog post for entering the ride-sharing market. \n",
      "\n",
      "```python\n",
      "# Define the SQL query to get metrics for the New York taxi market\n",
      "query = \"\"\"\n",
      "SELECT \n",
      "    CAST(tpep_pickup_datetime AS DATE) AS ride_date,\n",
      "    COUNT(*) AS total_rides,\n",
      "    AVG(fare_amount) AS average_fare,\n",
      "    SUM(total_amount) AS total_revenue\n",
      "FROM \n",
      "    read_parquet('yellow_tripdata_2024-01.parquet')\n",
      "GROUP BY \n",
      "    ride_date\n",
      "ORDER BY \n",
      "    ride_date;\n",
      "\"\"\"\n",
      "\n",
      "# Execute the query using the duckdb_query function\n",
      "duckdb_query(query)\n",
      "```\n",
      "\n",
      "### GTM Strategy Blog Post: Riding into the New York Taxi Market as a Ride-Sharing App\n",
      "\n",
      "**Introduction**\n",
      "The ride-sharing industry has seen remarkable growth and dynamic evolution, particularly in densely populated urban centers like New York City (NYC). As a new player looking to enter this vibrant market, it is crucial to have a well-thought-out Go-To-Market (GTM) strategy that differentiates your service from traditional taxis and established ride-sharing giants. Here are the key metrics you should consider and an actionable strategy to break into the NYC ride-sharing market.\n",
      "\n",
      "**Metrics to Measure for Effective GTM Strategy**\n",
      "1. **Market Size and Demand:** Analyze the total number of rides and peak usage times, which demonstrates demand.\n",
      "2. **Average Fare Rates:** Understand the average fare charged by taxis and existing ride-sharing services to frame your pricing strategy.\n",
      "3. **Customer Segmentation:** Identify target customer demographics including age, income, and purpose of travel to tailor marketing efforts.\n",
      "4. **Transportation Trends:** Study changing commuting behaviors, especially post-pandemic, to identify opportunities for innovation.\n",
      "5. **Competitive Analysis:** Monitor existing players for service offerings, pricing, and user feedback to identify gaps you can exploit.\n",
      "\n",
      "**Actionable Steps to Enter the NYC Ride-Sharing Market**\n",
      "\n",
      "1. **Conduct Thorough Market Research:** Utilize the taxi data that reveals patterns in ride frequency, peak hours, and revenue to establish a baseline understanding of the market.\n",
      "\n",
      "2. **Differentiate Your Service:** Define a Unique Selling Proposition (USP). Consider environmentally friendly vehicles, exceptional customer service, or innovative payment solutions (e.g., pay-as-you-go, subscription services).\n",
      "\n",
      "3. **Form Strategic Partnerships:** Collaborate with local businesses (hotels, restaurants) and events to offer promotional rides. Engaging with local influencers can also boost visibility.\n",
      "\n",
      "4. **Launch a Pilot Program:** Implement a test launch in a specific neighborhood rather than full-scale. Gather user feedback to refine the app experience, address pain points, and adapt offerings based on real-world interactions.\n",
      "\n",
      "5. **Implement an Aggressive Marketing Campaign:** Use targeted online ads and social media platforms to create awareness. Incentivize first-time users with discounts or rewards for referring others.\n",
      "\n",
      "6. **Ensure Compliance and Licenses:** Familiarize yourself with the regulations governing NYC ride-sharing services. Obtain all necessary permits and adhere to local laws to avoid legal complications.\n",
      "\n",
      "7. **Focus on Technology and User Experience:** Develop an intuitive mobile app with cutting-edge features such as real-time tracking, seamless payment options, and excellent customer support to enhance user satisfaction.\n",
      "\n",
      "**Conclusion**\n",
      "Breaking into the NYC taxi market as a ride-sharing app requires a mix of strategic planning, effective measurement of market metrics, and innovative service offerings. By leveraging data analytics and customer insights, you can carve out a niche in this competitive landscape and build a loyal user base. The ride-sharing revolution is just getting started, and there’s plenty of room for new contenders ready to innovate and enhance the commuter experience.\n",
      "\n",
      "--------------------------------------------------------------------------------\n",
      "\u001b[32m\n",
      "Next speaker: Executor\n",
      "\u001b[0m\n",
      "\u001b[31m\n",
      ">>>>>>>> EXECUTING CODE BLOCK (inferred language is python)...\u001b[0m\n",
      "\u001b[33mExecutor\u001b[0m (to chat_manager):\n",
      "\n",
      "exitcode: 1 (execution failed)\n",
      "Code output: ERROR: ERROR: NameError: name 'duckdb_query' is not defined\n",
      "['\\x1b[0;31m---------------------------------------------------------------------------\\x1b[0m', '\\x1b[0;31mNameError\\x1b[0m                                 Traceback (most recent call last)', 'Cell \\x1b[0;32mIn[1], line 17\\x1b[0m\\n\\x1b[1;32m      2\\x1b[0m query \\x1b[38;5;241m=\\x1b[39m \\x1b[38;5;124m\"\"\"\\x1b[39m\\n\\x1b[1;32m      3\\x1b[0m \\x1b[38;5;124mSELECT \\x1b[39m\\n\\x1b[1;32m      4\\x1b[0m \\x1b[38;5;124m    CAST(tpep_pickup_datetime AS DATE) AS ride_date,\\x1b[39m\\n\\x1b[0;32m   (...)\\x1b[0m\\n\\x1b[1;32m     13\\x1b[0m \\x1b[38;5;124m    ride_date;\\x1b[39m\\n\\x1b[1;32m     14\\x1b[0m \\x1b[38;5;124m\"\"\"\\x1b[39m\\n\\x1b[1;32m     16\\x1b[0m \\x1b[38;5;66;03m# Execute the query using the duckdb_query function\\x1b[39;00m\\n\\x1b[0;32m---> 17\\x1b[0m \\x1b[43mduckdb_query\\x1b[49m(query)\\n', \"\\x1b[0;31mNameError\\x1b[0m: name 'duckdb_query' is not defined\"]\n",
      "\n",
      "--------------------------------------------------------------------------------\n",
      "[autogen.oai.client: 09-18 01:20:21] {184} WARNING - The API key specified is not a valid OpenAI format; it won't work with the OpenAI-hosted model.\n",
      "\u001b[32m\n",
      "Next speaker: Planner\n",
      "\u001b[0m\n",
      "\u001b[31m\n",
      ">>>>>>>> USING AUTO REPLY...\u001b[0m\n",
      "\u001b[33mPlanner\u001b[0m (to chat_manager):\n",
      "\n",
      "It looks like the execution of the SQL query failed because the function `duckdb_query` is not defined in the current context. We need to either define this function or use an appropriate method to execute the SQL query with DuckDB.\n",
      "\n",
      "### Next Steps:\n",
      "1. **Define the `duckdb_query` Function**: We can create a function to handle SQL queries using DuckDB. If you have access to the DuckDB library, please define it as follows:\n",
      "\n",
      "```python\n",
      "import duckdb\n",
      "\n",
      "def duckdb_query(query):\n",
      "    con = duckdb.connect()\n",
      "    result = con.execute(query).fetchdf()\n",
      "    con.close()\n",
      "    return result\n",
      "```\n",
      "2. **Execute the SQL Query Again**: Once the function is defined, you can run the SQL query again using the defined function.\n",
      "\n",
      "### Here’s the complete code to redefine the function and execute the query:\n",
      "\n",
      "```python\n",
      "import duckdb\n",
      "\n",
      "def duckdb_query(query):\n",
      "    con = duckdb.connect()\n",
      "    result = con.execute(query).fetchdf()\n",
      "    con.close()\n",
      "    return result\n",
      "\n",
      "# Define the SQL query again to get metrics for the New York taxi market\n",
      "query = \"\"\"\n",
      "SELECT \n",
      "    CAST(tpep_pickup_datetime AS DATE) AS ride_date,\n",
      "    COUNT(*) AS total_rides,\n",
      "    AVG(fare_amount) AS average_fare,\n",
      "    SUM(total_amount) AS total_revenue\n",
      "FROM \n",
      "    read_parquet('yellow_tripdata_2024-01.parquet')\n",
      "GROUP BY \n",
      "    ride_date\n",
      "ORDER BY \n",
      "    ride_date;\n",
      "\"\"\"\n",
      "\n",
      "# Execute the query using the duckdb_query function\n",
      "results = duckdb_query(query)\n",
      "print(results)\n",
      "```\n",
      "\n",
      "### Please execute this code, and let me know the outcome so we can proceed with creating the GTM strategy blog post based on the retrieved data.\n",
      "\n",
      "--------------------------------------------------------------------------------\n",
      "[autogen.oai.client: 09-18 01:20:24] {184} WARNING - The API key specified is not a valid OpenAI format; it won't work with the OpenAI-hosted model.\n",
      "\u001b[32m\n",
      "Next speaker: Engineer\n",
      "\u001b[0m\n",
      "\u001b[33mEngineer\u001b[0m (to chat_manager):\n",
      "\n",
      "It seems like you require a complete solution to successfully execute the SQL query and retrieve data from the `yellow_tripdata_2024-01.parquet` file using DuckDB.\n",
      "\n",
      "### Step 1: Define the `duckdb_query` Function\n",
      "This function will connect to DuckDB, execute the SQL query, and return the results in a pandas DataFrame format.\n",
      "\n",
      "### Step 2: Write the SQL Query\n",
      "We will use the SQL query designed earlier to extract relevant metrics from the NYC taxi data.\n",
      "\n",
      "Here's the complete code to execute:\n",
      "\n",
      "```python\n",
      "import duckdb\n",
      "\n",
      "# Step 1: Define the duckdb_query function\n",
      "def duckdb_query(query):\n",
      "    # Connect to DuckDB\n",
      "    con = duckdb.connect()\n",
      "    # Execute the query and fetch results as a DataFrame\n",
      "    result = con.execute(query).fetchdf()\n",
      "    # Close the connection\n",
      "    con.close()\n",
      "    return result\n",
      "\n",
      "# Step 2: Define the SQL query to get metrics for the New York taxi market\n",
      "query = \"\"\"\n",
      "SELECT \n",
      "    CAST(tpep_pickup_datetime AS DATE) AS ride_date,\n",
      "    COUNT(*) AS total_rides,\n",
      "    AVG(fare_amount) AS average_fare,\n",
      "    SUM(total_amount) AS total_revenue\n",
      "FROM \n",
      "    read_parquet('yellow_tripdata_2024-01.parquet')\n",
      "GROUP BY \n",
      "    ride_date\n",
      "ORDER BY \n",
      "    ride_date;\n",
      "\"\"\"\n",
      "\n",
      "# Step 3: Execute the query using the duckdb_query function\n",
      "results = duckdb_query(query)\n",
      "\n",
      "# Print the results\n",
      "print(results)\n",
      "```\n",
      "\n",
      "### Step 3: Observe the Output\n",
      "When you run this code, it should output a DataFrame containing daily metrics for rides, average fare amounts, and total revenue for January 2024.\n",
      "\n",
      "### Next Steps\n",
      "After retrieving the data, you can utilize it to enhance the GTM strategy blog post, providing data-driven insights and recommendations for entering the NYC ride-sharing market.\n",
      "\n",
      "Please execute the code and review the results to guide the next steps for your GTM strategy. If you encounter any issues, feel free to reach out for assistance.\n",
      "\n",
      "--------------------------------------------------------------------------------\n",
      "\u001b[32m\n",
      "Next speaker: Executor\n",
      "\u001b[0m\n",
      "\u001b[31m\n",
      ">>>>>>>> EXECUTING CODE BLOCK (inferred language is python)...\u001b[0m\n",
      "\u001b[33mExecutor\u001b[0m (to chat_manager):\n",
      "\n",
      "exitcode: 0 (execution succeeded)\n",
      "Code output:     ride_date  total_rides  average_fare  total_revenue\n",
      "0  2002-12-31            2      0.000000           0.00\n",
      "1  2009-01-01            3     33.333333         127.69\n",
      "2  2023-12-31           10     14.410000         224.62\n",
      "3  2024-01-01        81013     21.788021     2442843.25\n",
      "4  2024-01-02        75519     20.967073     2282196.02\n",
      "5  2024-01-03        82427     19.664023     2357588.48\n",
      "6  2024-01-04       102901     18.421313     2800511.06\n",
      "7  2024-01-05       103178     17.832455     2728672.52\n",
      "8  2024-01-06        97117     17.310473     2436272.32\n",
      "9  2024-01-07        67543     19.452979     1898102.16\n",
      "10 2024-01-08        80034     18.698506     2216447.23\n",
      "11 2024-01-09        93962     16.898262     2363882.49\n",
      "12 2024-01-10        95000     17.920642     2550418.13\n",
      "13 2024-01-11       105010     18.556642     2905318.19\n",
      "14 2024-01-12       103655     18.548340     2862882.13\n",
      "15 2024-01-13       104758     17.276199     2649939.94\n",
      "16 2024-01-14        94420     17.870277     2459841.63\n",
      "17 2024-01-15        77033     19.298006     2165047.64\n",
      "18 2024-01-16        93057     19.172023     2634860.07\n",
      "19 2024-01-17       110365     18.203946     2979925.50\n",
      "20 2024-01-18       110358     17.895974     2943299.54\n",
      "21 2024-01-19        95951     17.221130     2479618.86\n",
      "22 2024-01-20       108768     16.534302     2617354.05\n",
      "23 2024-01-21        84502     18.430728     2265160.37\n",
      "24 2024-01-22        85650     18.535876     2359736.24\n",
      "25 2024-01-23        99891     17.677201     2636942.08\n",
      "26 2024-01-24       105120     17.716180     2791643.56\n",
      "27 2024-01-25       110318     18.263443     3002982.05\n",
      "28 2024-01-26       105804     17.815411     2812237.72\n",
      "29 2024-01-27       110515     16.816795     2712188.01\n",
      "30 2024-01-28        92837     18.069742     2434776.25\n",
      "31 2024-01-29        84547     18.543849     2338564.77\n",
      "32 2024-01-30       101233     17.334328     2640791.29\n",
      "33 2024-01-31       102120     17.526252     2685897.95\n",
      "34 2024-02-01            3     19.333333          90.47\n",
      "\n",
      "\n",
      "--------------------------------------------------------------------------------\n",
      "[autogen.oai.client: 09-18 01:20:30] {184} WARNING - The API key specified is not a valid OpenAI format; it won't work with the OpenAI-hosted model.\n",
      "\u001b[32m\n",
      "Next speaker: Planner\n",
      "\u001b[0m\n",
      "\u001b[31m\n",
      ">>>>>>>> USING AUTO REPLY...\u001b[0m\n",
      "\u001b[33mPlanner\u001b[0m (to chat_manager):\n",
      "\n",
      "Great! The SQL query has successfully executed, and you have retrieved the necessary metrics from the New York taxi market for January 2024. Here's a summary of the key metrics you obtained:\n",
      "\n",
      "### Summary of Results\n",
      "- **Columns**:\n",
      "  - **ride_date**: The date of the ride.\n",
      "  - **total_rides**: Total number of rides on that day.\n",
      "  - **average_fare**: Average fare amount per ride for that day.\n",
      "  - **total_revenue**: Total revenue generated from rides on that day.\n",
      "\n",
      "### Next Steps\n",
      "Utilize these insights to draft the GTM strategy blog post, incorporating data-driven metrics. Here are some possible angles you could consider including based on the retrieved data:\n",
      "\n",
      "1. **Peak Demand Days**: Highlight the top days with total rides to determine when your service can have high visibility.\n",
      "\n",
      "2. **Revenue Potential**: Discuss days with higher total revenues, potentially aligning marketing initiatives or offering promotions during those times.\n",
      "\n",
      "3. **Average Fare Comparison**: Compare the average fare to existing ride-sharing services, possibly suggesting competitive pricing strategies.\n",
      "\n",
      "4. **Customer Engagement**: Create segments for high-traffic days and capture the demographic that uses the service.\n",
      "\n",
      "### Suggested Additions to the Blog Post\n",
      "You could enhance the blog post by specifically discussing:\n",
      "- Trends observed in ride frequency vs fare price over the month.\n",
      "- Specific dates where promotional offers could be most advantageous.\n",
      "\n",
      "### Drafted Sample Section for GTM Strategy Blog Post\n",
      "Here’s a sample segment you could add to your blog post using the data:\n",
      "\n",
      "---\n",
      "\n",
      "**Data-Driven Insights for a Successful Entry**\n",
      "\n",
      "Based on the NYC taxi metrics retrieved for January 2024, notable patterns emerged that can guide our strategic entry into the ride-sharing market. \n",
      "\n",
      "- **Peak Demand**: January 1, 2024, saw an impressive **81,013 rides**, with a total revenue of **$2,442,843.25**, highlighting it as a day when service visibility could be maximized through targeted marketing.\n",
      "\n",
      "- **Average Fare Strategy**: The average fare on that peak day was approximately **$21.79**. Understanding this fare will help us price competitively, allowing us to attract cost-conscious riders while maintaining sustainable revenue.\n",
      "\n",
      "- **Promotional Opportunities**: Days towards the middle of the month, such as January 11 - 13, have comparatively high revenues and average fares. These present golden opportunities for promotional campaigns designed to attract new users.\n",
      "\n",
      "---\n",
      "\n",
      "Once you've integrated these insights, you can finalize the blog post with actionable strategies. If you need any adjustments or further insights, feel free to ask!\n",
      "\n",
      "--------------------------------------------------------------------------------\n",
      "[autogen.oai.client: 09-18 01:20:36] {184} WARNING - The API key specified is not a valid OpenAI format; it won't work with the OpenAI-hosted model.\n",
      "\u001b[32m\n",
      "Next speaker: Writer\n",
      "\u001b[0m\n",
      "\u001b[31m\n",
      ">>>>>>>> USING AUTO REPLY...\u001b[0m\n",
      "\u001b[33mWriter\u001b[0m (to chat_manager):\n",
      "\n",
      "```md\n",
      "# Riding into the New York Taxi Market as a Ride-Sharing App\n",
      "\n",
      "**Introduction**  \n",
      "The ride-sharing industry has seen remarkable growth in urban centers like New York City (NYC). As a new entrant, having a well-thought-out Go-To-Market (GTM) strategy is crucial. Below we'll discuss key metrics to consider, followed by actionable steps to effectively break into the NYC ride-sharing market.\n",
      "\n",
      "## Metrics to Measure for Effective GTM Strategy\n",
      "1. **Market Size and Demand**: Analyze the total number of rides and peak usage times.\n",
      "2. **Average Fare Rates**: Understand the average fare charged.\n",
      "3. **Customer Segmentation**: Identify the target demographics for tailored marketing.\n",
      "4. **Transportation Trends**: Monitor changing commuting behaviors, especially post-pandemic.\n",
      "5. **Competitive Analysis**: Evaluate existing players and identify gaps.\n",
      "\n",
      "## Data-Driven Insights for a Successful Entry\n",
      "\n",
      "Based on the NYC taxi metrics retrieved for January 2024, notable patterns emerged that can guide our strategic entry into the ride-sharing market.\n",
      "\n",
      "- **Peak Demand**: January 1, 2024, saw an impressive **81,013 rides**, with a total revenue of **$2,442,843.25**, highlighting it as a day for maximized service visibility through targeted marketing.\n",
      "\n",
      "- **Average Fare Strategy**: The average fare on that peak day was approximately **$21.79**. Understanding this fare will help us price competitively, attracting cost-conscious riders while maintaining sustainable revenue.\n",
      "\n",
      "- **Promotional Opportunities**: Days towards the middle of the month, such as January 11 - 13, have comparatively high revenues and fare averages. These days represent golden opportunities for promotional campaigns designed to attract new users.\n",
      "\n",
      "## Actionable Steps to Enter the NYC Ride-Sharing Market\n",
      "1. **Conduct Thorough Market Research**: Use the taxi data for insights on ride frequency and peak hours.\n",
      "   \n",
      "2. **Differentiate Your Service**: Establish a Unique Selling Proposition (USP) focusing on eco-friendliness or outstanding customer service.\n",
      "   \n",
      "3. **Form Strategic Partnerships**: Collaborate with local businesses to boost visibility.\n",
      "   \n",
      "4. **Launch a Pilot Program**: Test in a limited area to gather user insights and refine services.\n",
      "   \n",
      "5. **Implement an Aggressive Marketing Campaign**: Target social media and incentives for new users.\n",
      "   \n",
      "6. **Ensure Compliance and Licenses**: Stay updated on regulations and secure necessary permits.\n",
      "   \n",
      "7. **Focus on Technology and User Experience**: Develop a user-friendly app with valuable features and excellent customer support.\n",
      "\n",
      "## Conclusion  \n",
      "Entering the NYC ride-sharing market requires strategic planning and a solid understanding of market dynamics. By leveraging data analytics and customer insights, you can differentiate your service and build a loyal user base.\n",
      "\n",
      "The ride-sharing revolution is growing, and this is an opportune moment for new players ready to enhance the commuter experience!\n",
      "```\n",
      "\n",
      "### Next Steps\n",
      "Feel free to review the blog post draft and let me know if there are any specific changes, additional insights, or sections you'd like to add! Your feedback will help refine it further.\n",
      "\n",
      "--------------------------------------------------------------------------------\n",
      "[autogen.oai.client: 09-18 01:20:45] {184} WARNING - The API key specified is not a valid OpenAI format; it won't work with the OpenAI-hosted model.\n",
      "\u001b[32m\n",
      "Next speaker: Admin\n",
      "\u001b[0m\n"
     ]
    }
   ],
   "source": [
    "manager = autogen.GroupChatManager(\n",
    "    groupchat=groupchat, llm_config=llm_config\n",
    ")\n",
    "\n",
    "groupchat_result = user_proxy.initiate_chat(\n",
    "    manager,\n",
    "    message=task,\n",
    ")"
   ]
  },
  {
   "cell_type": "code",
   "execution_count": null,
   "metadata": {},
   "outputs": [],
   "source": []
  }
 ],
 "metadata": {
  "kernelspec": {
   "display_name": "pyautogen",
   "language": "python",
   "name": "python3"
  },
  "language_info": {
   "codemirror_mode": {
    "name": "ipython",
    "version": 3
   },
   "file_extension": ".py",
   "mimetype": "text/x-python",
   "name": "python",
   "nbconvert_exporter": "python",
   "pygments_lexer": "ipython3",
   "version": "3.10.14"
  }
 },
 "nbformat": 4,
 "nbformat_minor": 2
}
