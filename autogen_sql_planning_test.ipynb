{
 "cells": [
  {
   "cell_type": "markdown",
   "metadata": {},
   "source": [
    "# Single SQL Agent coding"
   ]
  },
  {
   "cell_type": "code",
   "execution_count": 4,
   "metadata": {},
   "outputs": [],
   "source": [
    "#feel free to put it in your model of choice\n",
    "llm_config={\"model\": \"gpt-4-turbo\"}"
   ]
  },
  {
   "cell_type": "code",
   "execution_count": 5,
   "metadata": {},
   "outputs": [],
   "source": [
    "import pandas as pd"
   ]
  },
  {
   "cell_type": "code",
   "execution_count": 6,
   "metadata": {},
   "outputs": [],
   "source": [
    "# create a config.py file to store your openai key\n",
    "from config import openai_key\n",
    "llm_config = {\"model\": \"gpt-4o-mini\", \"api_key\": openai_key}"
   ]
  },
  {
   "cell_type": "code",
   "execution_count": 29,
   "metadata": {},
   "outputs": [
    {
     "name": "stdout",
     "output_type": "stream",
     "text": [
      "exit_code=0 output='Hello, World!\\n' output_files=[]\n"
     ]
    }
   ],
   "source": [
    "from autogen.coding import CodeBlock\n",
    "from autogen.coding.jupyter import JupyterCodeExecutor, LocalJupyterServer\n",
    "\n",
    "with LocalJupyterServer() as server:\n",
    "    executor = JupyterCodeExecutor(server)\n",
    "    print(\n",
    "        executor.execute_code_blocks(\n",
    "            code_blocks=[\n",
    "                CodeBlock(language=\"python\", code=\"print('Hello, World!')\"),\n",
    "            ],\n",
    "        )\n",
    "    )"
   ]
  },
  {
   "cell_type": "code",
   "execution_count": 8,
   "metadata": {},
   "outputs": [],
   "source": [
    "import duckdb"
   ]
  },
  {
   "cell_type": "code",
   "execution_count": 9,
   "metadata": {},
   "outputs": [],
   "source": [
    "schema = duckdb.sql(\"DESCRIBE SELECT * FROM 'yellow_tripdata_2024-01.parquet'\")"
   ]
  },
  {
   "cell_type": "code",
   "execution_count": 10,
   "metadata": {},
   "outputs": [
    {
     "data": {
      "text/plain": [
       "┌───────────────────────┬─────────────┬─────────┬─────────┬─────────┬─────────┐\n",
       "│      column_name      │ column_type │  null   │   key   │ default │  extra  │\n",
       "│        varchar        │   varchar   │ varchar │ varchar │ varchar │ varchar │\n",
       "├───────────────────────┼─────────────┼─────────┼─────────┼─────────┼─────────┤\n",
       "│ VendorID              │ INTEGER     │ YES     │ NULL    │ NULL    │ NULL    │\n",
       "│ tpep_pickup_datetime  │ TIMESTAMP   │ YES     │ NULL    │ NULL    │ NULL    │\n",
       "│ tpep_dropoff_datetime │ TIMESTAMP   │ YES     │ NULL    │ NULL    │ NULL    │\n",
       "│ passenger_count       │ BIGINT      │ YES     │ NULL    │ NULL    │ NULL    │\n",
       "│ trip_distance         │ DOUBLE      │ YES     │ NULL    │ NULL    │ NULL    │\n",
       "│ RatecodeID            │ BIGINT      │ YES     │ NULL    │ NULL    │ NULL    │\n",
       "│ store_and_fwd_flag    │ VARCHAR     │ YES     │ NULL    │ NULL    │ NULL    │\n",
       "│ PULocationID          │ INTEGER     │ YES     │ NULL    │ NULL    │ NULL    │\n",
       "│ DOLocationID          │ INTEGER     │ YES     │ NULL    │ NULL    │ NULL    │\n",
       "│ payment_type          │ BIGINT      │ YES     │ NULL    │ NULL    │ NULL    │\n",
       "│ fare_amount           │ DOUBLE      │ YES     │ NULL    │ NULL    │ NULL    │\n",
       "│ extra                 │ DOUBLE      │ YES     │ NULL    │ NULL    │ NULL    │\n",
       "│ mta_tax               │ DOUBLE      │ YES     │ NULL    │ NULL    │ NULL    │\n",
       "│ tip_amount            │ DOUBLE      │ YES     │ NULL    │ NULL    │ NULL    │\n",
       "│ tolls_amount          │ DOUBLE      │ YES     │ NULL    │ NULL    │ NULL    │\n",
       "│ improvement_surcharge │ DOUBLE      │ YES     │ NULL    │ NULL    │ NULL    │\n",
       "│ total_amount          │ DOUBLE      │ YES     │ NULL    │ NULL    │ NULL    │\n",
       "│ congestion_surcharge  │ DOUBLE      │ YES     │ NULL    │ NULL    │ NULL    │\n",
       "│ Airport_fee           │ DOUBLE      │ YES     │ NULL    │ NULL    │ NULL    │\n",
       "├───────────────────────┴─────────────┴─────────┴─────────┴─────────┴─────────┤\n",
       "│ 19 rows                                                           6 columns │\n",
       "└─────────────────────────────────────────────────────────────────────────────┘"
      ]
     },
     "execution_count": 10,
     "metadata": {},
     "output_type": "execute_result"
    }
   ],
   "source": [
    "schema"
   ]
  },
  {
   "cell_type": "code",
   "execution_count": 11,
   "metadata": {},
   "outputs": [],
   "source": [
    "from autogen import ConversableAgent, AssistantAgent"
   ]
  },
  {
   "cell_type": "code",
   "execution_count": 12,
   "metadata": {},
   "outputs": [],
   "source": [
    "message = f\"Here is the schema of the parquet file yellow_tripdata_2024-01.parquet: {schema}. Create a SQL code to get the whatever the user requests and return the results with the associated function..\""
   ]
  },
  {
   "cell_type": "code",
   "execution_count": 71,
   "metadata": {},
   "outputs": [],
   "source": [
    "code_sql_agent_system_message =  \"You are a a helpful assistant that generates SQL code based on user request for DuckDB. Make sure you query from the parquet file, such as DailyRevenue.parquet instead of DailyRevenue in the SQL query as this is duckdb.\" + message\n",
    "\n",
    "\n",
    "code_sql_agent_system_message += \"\"\"\n",
    "You have been given coding capability to solve tasks using Python code in a stateful IPython kernel.\n",
    "You are responsible for writing the code, and the user is responsible for executing the code.\n",
    "\n",
    "When you write Python code, put the code in a markdown code block with the language set to Python.\n",
    "For example:\n",
    "```python\n",
    "x = 3\n",
    "```\n",
    "You can use the variable `x` in subsequent code blocks.\n",
    "```python\n",
    "print(x)\n",
    "```\n",
    "\n",
    "Write code incrementally and leverage the statefulness of the kernel to avoid repeating code.\n",
    "Import libraries in a separate code block.\n",
    "Define a function or a class in a separate code block.\n",
    "Run code that produces output in a separate code block.\n",
    "Run code that involves expensive operations like download, upload, and call external APIs in a separate code block.\n",
    "\n",
    "When your code produces an output, the output will be returned to you.\n",
    "Because you have limited conversation memory, if your code creates an image,\n",
    "the output will be a path to the image instead of the image itself.\n",
    "\n",
    "Here is the function you should use for DuckDB SQL:\n",
    "\n",
    "```python\n",
    "def duckdb_query(query):\n",
    "    import duckdb\n",
    "    result = duckdb.sql('(query)).to_df()\n",
    "    print(result)\n",
    "```\n",
    "    \"\"\"\n"
   ]
  },
  {
   "cell_type": "code",
   "execution_count": 72,
   "metadata": {},
   "outputs": [
    {
     "name": "stdout",
     "output_type": "stream",
     "text": [
      "[autogen.oai.client: 09-20 05:34:08] {184} WARNING - The API key specified is not a valid OpenAI format; it won't work with the OpenAI-hosted model.\n"
     ]
    }
   ],
   "source": [
    "code_sql_agent = AssistantAgent(\n",
    "    name=\"code_sql_agent\",\n",
    "    llm_config=llm_config,\n",
    "    code_execution_config=False,\n",
    "    human_input_mode=\"NEVER\",\n",
    "    system_message=code_sql_agent_system_message\n",
    ")"
   ]
  },
  {
   "cell_type": "code",
   "execution_count": 73,
   "metadata": {},
   "outputs": [],
   "source": [
    "def duckdb_query(query):\n",
    "    import duckdb\n",
    "    result = duckdb.sql(f\"{query}\").to_df()\n",
    "    print(result)\n",
    "    "
   ]
  },
  {
   "cell_type": "code",
   "execution_count": 74,
   "metadata": {},
   "outputs": [],
   "source": [
    "server = LocalJupyterServer()\n",
    "\n",
    "\n",
    "\n",
    "code_executor_agent = ConversableAgent(\n",
    "    name=\"code_executor_agent\",\n",
    "    llm_config=False,\n",
    "    code_execution_config={\n",
    "        \"executor\": JupyterCodeExecutor(server, output_dir=\"coding\"),\n",
    "    },\n",
    "    human_input_mode=\"ALWAYS\",\n",
    "    default_auto_reply=\n",
    "    \"Please continue. If everything is done, reply 'TERMINATE'.\",\n",
    ")"
   ]
  },
  {
   "cell_type": "code",
   "execution_count": 75,
   "metadata": {},
   "outputs": [
    {
     "data": {
      "text/plain": [
       "\"You are a a helpful assistant that generates SQL code based on user request for DuckDB. Make sure you query from the parquet file, such as DailyRevenue.parquet instead of DailyRevenue in the SQL query as this is duckdb.Here is the schema of the parquet file yellow_tripdata_2024-01.parquet: ┌───────────────────────┬─────────────┬─────────┬─────────┬─────────┬─────────┐\\n│      column_name      │ column_type │  null   │   key   │ default │  extra  │\\n│        varchar        │   varchar   │ varchar │ varchar │ varchar │ varchar │\\n├───────────────────────┼─────────────┼─────────┼─────────┼─────────┼─────────┤\\n│ VendorID              │ INTEGER     │ YES     │ NULL    │ NULL    │ NULL    │\\n│ tpep_pickup_datetime  │ TIMESTAMP   │ YES     │ NULL    │ NULL    │ NULL    │\\n│ tpep_dropoff_datetime │ TIMESTAMP   │ YES     │ NULL    │ NULL    │ NULL    │\\n│ passenger_count       │ BIGINT      │ YES     │ NULL    │ NULL    │ NULL    │\\n│ trip_distance         │ DOUBLE      │ YES     │ NULL    │ NULL    │ NULL    │\\n│ RatecodeID            │ BIGINT      │ YES     │ NULL    │ NULL    │ NULL    │\\n│ store_and_fwd_flag    │ VARCHAR     │ YES     │ NULL    │ NULL    │ NULL    │\\n│ PULocationID          │ INTEGER     │ YES     │ NULL    │ NULL    │ NULL    │\\n│ DOLocationID          │ INTEGER     │ YES     │ NULL    │ NULL    │ NULL    │\\n│ payment_type          │ BIGINT      │ YES     │ NULL    │ NULL    │ NULL    │\\n│ fare_amount           │ DOUBLE      │ YES     │ NULL    │ NULL    │ NULL    │\\n│ extra                 │ DOUBLE      │ YES     │ NULL    │ NULL    │ NULL    │\\n│ mta_tax               │ DOUBLE      │ YES     │ NULL    │ NULL    │ NULL    │\\n│ tip_amount            │ DOUBLE      │ YES     │ NULL    │ NULL    │ NULL    │\\n│ tolls_amount          │ DOUBLE      │ YES     │ NULL    │ NULL    │ NULL    │\\n│ improvement_surcharge │ DOUBLE      │ YES     │ NULL    │ NULL    │ NULL    │\\n│ total_amount          │ DOUBLE      │ YES     │ NULL    │ NULL    │ NULL    │\\n│ congestion_surcharge  │ DOUBLE      │ YES     │ NULL    │ NULL    │ NULL    │\\n│ Airport_fee           │ DOUBLE      │ YES     │ NULL    │ NULL    │ NULL    │\\n├───────────────────────┴─────────────┴─────────┴─────────┴─────────┴─────────┤\\n│ 19 rows                                                           6 columns │\\n└─────────────────────────────────────────────────────────────────────────────┘\\n. Create a SQL code to get the whatever the user requests and return the results with the associated function..\\nYou have been given coding capability to solve tasks using Python code in a stateful IPython kernel.\\nYou are responsible for writing the code, and the user is responsible for executing the code.\\n\\nWhen you write Python code, put the code in a markdown code block with the language set to Python.\\nFor example:\\n```python\\nx = 3\\n```\\nYou can use the variable `x` in subsequent code blocks.\\n```python\\nprint(x)\\n```\\n\\nWrite code incrementally and leverage the statefulness of the kernel to avoid repeating code.\\nImport libraries in a separate code block.\\nDefine a function or a class in a separate code block.\\nRun code that produces output in a separate code block.\\nRun code that involves expensive operations like download, upload, and call external APIs in a separate code block.\\n\\nWhen your code produces an output, the output will be returned to you.\\nBecause you have limited conversation memory, if your code creates an image,\\nthe output will be a path to the image instead of the image itself.\\n\\nHere is the function you should use for DuckDB SQL:\\n\\n```python\\ndef duckdb_query(query):\\n    import duckdb\\n    result = duckdb.sql('(query)).to_df()\\n    print(result)\\n```\\n    \""
      ]
     },
     "execution_count": 75,
     "metadata": {},
     "output_type": "execute_result"
    }
   ],
   "source": [
    "code_sql_agent_system_message"
   ]
  },
  {
   "cell_type": "code",
   "execution_count": null,
   "metadata": {},
   "outputs": [],
   "source": [
    "#Input your query in the message section\n",
    "\n",
    "chat_result = code_executor_agent.initiate_chat(\n",
    "    code_sql_agent,\n",
    "    message=\"\"\"\n",
    "    Please generate me the average pickup time for a daily basis for the parquet file yellow_tripdata_2024-01.parquet for DuckDB.?\n",
    "    \n",
    "    Here is an example query that works for DuckDB based on the following question:\n",
    "\n",
    "    {Please generate me the average number of rides a day on split by weekday basis for the parquet file yellow_tripdata_2024-01.parquet for DuckDB. Can you split it by each day of the week?}\n",
    "\n",
    "    Here was the query:\n",
    "\n",
    "    {SELECT \n",
    "        EXTRACT(DOW FROM tpep_pickup_datetime) AS weekday,\n",
    "        COUNT(*)::FLOAT / COUNT(DISTINCT CAST(tpep_pickup_datetime AS DATE)) AS average_rides\n",
    "    FROM \n",
    "        read_parquet('yellow_tripdata_2024-01.parquet')\n",
    "    GROUP BY \n",
    "        weekday\n",
    "    ORDER BY \n",
    "        weekday;\n",
    "    }\n",
    "\n",
    "    Make sure to use the duckdb_query function to execute the query.\n",
    "    \n",
    "     \"\"\"\n",
    "\n",
    ")"
   ]
  },
  {
   "cell_type": "markdown",
   "metadata": {},
   "source": [
    "# Group Chat"
   ]
  },
  {
   "cell_type": "code",
   "execution_count": 92,
   "metadata": {},
   "outputs": [],
   "source": [
    "task = \"\"\"\n",
    "\n",
    "Please select the appropriate metrics for a GTM strategy and then breakdown the new york taxi market data for January 2024 based on the parquet file yellow_tripdata_2024-01.parquet with SQL. Then create a GTM strategy blog post for how to break in to the market as a ride sharing app.\n",
    "\n",
    "Here is an example query that works for DuckDB based on the following question:\n",
    "\n",
    "{Please generate me the average number of rides a day on split by weekday basis for the parquet file yellow_tripdata_2024-01.parquet for DuckDB. Can you split it by each day of the week?}\n",
    "\n",
    "Here was the query:\n",
    "```SQL\n",
    "\n",
    "{SELECT \n",
    "    EXTRACT(DOW FROM tpep_pickup_datetime) AS weekday,\n",
    "    COUNT(*)::FLOAT / COUNT(DISTINCT CAST(tpep_pickup_datetime AS DATE)) AS average_rides\n",
    "FROM \n",
    "    read_parquet('yellow_tripdata_2024-01.parquet')\n",
    "GROUP BY \n",
    "    weekday\n",
    "ORDER BY \n",
    "    weekday;\n",
    "}\n",
    "```SQL\n",
    "\n",
    "You can then use the function:\n",
    "\n",
    "```python\n",
    "def duckdb_query(query):\n",
    "    import duckdb\n",
    "    result = duckdb.sql('(query)).to_df()\n",
    "    print(result)\n",
    "```\n",
    "with the query inside the function.\n",
    "\n",
    "\n",
    "\"\"\""
   ]
  },
  {
   "cell_type": "code",
   "execution_count": 77,
   "metadata": {},
   "outputs": [],
   "source": [
    "import autogen"
   ]
  },
  {
   "cell_type": "code",
   "execution_count": 78,
   "metadata": {},
   "outputs": [
    {
     "name": "stdout",
     "output_type": "stream",
     "text": [
      "[autogen.oai.client: 09-20 05:34:19] {184} WARNING - The API key specified is not a valid OpenAI format; it won't work with the OpenAI-hosted model.\n"
     ]
    }
   ],
   "source": [
    "server = LocalJupyterServer()\n",
    "\n",
    "user_proxy = autogen.ConversableAgent(\n",
    "    name=\"Admin\",\n",
    "    system_message=\"Give the task, and send \"\n",
    "    \"instructions to writer to refine the blog post.\",\n",
    "    code_execution_config=False,\n",
    "    llm_config=llm_config,\n",
    "    human_input_mode=\"ALWAYS\",\n",
    ")"
   ]
  },
  {
   "cell_type": "code",
   "execution_count": 79,
   "metadata": {},
   "outputs": [],
   "source": [
    "code_planner_agent_system_message = message + \"\"\"You have access to the following user defined functions. They can be accessed from the module called `functions` by their function names.\n",
    "\n",
    "    For example, if you have function 'foo', you can call the function by writing \"from functions import foo\"\n",
    "    Here is the function that you should use:\n",
    "    \n",
    "    def duckdb_query(query):\n",
    "        import duckdb\n",
    "        result = duckdb.sql((query)).to_df()\n",
    "        print(result)\n",
    "    \"\"\""
   ]
  },
  {
   "cell_type": "code",
   "execution_count": 90,
   "metadata": {},
   "outputs": [
    {
     "name": "stdout",
     "output_type": "stream",
     "text": [
      "[autogen.oai.client: 09-20 05:36:18] {184} WARNING - The API key specified is not a valid OpenAI format; it won't work with the OpenAI-hosted model.\n"
     ]
    }
   ],
   "source": [
    "planner = autogen.ConversableAgent(\n",
    "    name=\"Planner\",\n",
    "    system_message=\"Given a task, please determine \"\n",
    "    \"what information is needed to complete the task. \"\n",
    "    \"Please note that the information will all be retrieved using\"\n",
    "    \"Python code. Please only suggest information that can be \"\n",
    "    \"retrieved using Python code. \"\n",
    "    \"After each step is done by others, check the progress and \"\n",
    "    \"instruct the remaining steps. If a step fails, try to \"\n",
    "    \"workaround. Here is the schema of the database: {schema}\",\n",
    "\n",
    "    description=\"Planner. Given a task, determine what \"\n",
    "    \"information is needed to complete the task. \"\n",
    "    \"After each step is done by others, check the progress and \"\n",
    "    \"instruct the remaining steps\",\n",
    "    llm_config=llm_config,\n",
    ")"
   ]
  },
  {
   "cell_type": "code",
   "execution_count": 81,
   "metadata": {},
   "outputs": [
    {
     "name": "stdout",
     "output_type": "stream",
     "text": [
      "[autogen.oai.client: 09-20 05:34:19] {184} WARNING - The API key specified is not a valid OpenAI format; it won't work with the OpenAI-hosted model.\n"
     ]
    }
   ],
   "source": [
    "engineer = autogen.AssistantAgent(\n",
    "    name=\"Engineer\",\n",
    "    llm_config=llm_config,\n",
    "    system_message = code_planner_agent_system_message,\n",
    "    description=\"An engineer that writes Python and/or SQL code and then function on the plan and schema provided by the planner.\",\n",
    ")"
   ]
  },
  {
   "cell_type": "code",
   "execution_count": 82,
   "metadata": {},
   "outputs": [],
   "source": [
    "def duckdb_query(query):\n",
    "    import pandas\n",
    "    import duckdb\n",
    "    result = duckdb.sql(f\"{query}\").to_df()\n",
    "    print(result)\n",
    "    "
   ]
  },
  {
   "cell_type": "code",
   "execution_count": 83,
   "metadata": {},
   "outputs": [],
   "source": [
    "executor = autogen.ConversableAgent(\n",
    "    name=\"Executor\",\n",
    "    system_message=\"Execute the code written by the \"\n",
    "    \"engineer and report the result.\",\n",
    "    human_input_mode=\"NEVER\",\n",
    "    code_execution_config={\n",
    "        \"executor\": JupyterCodeExecutor(server, output_dir=\"coding\"),\n",
    "    },\n",
    ")"
   ]
  },
  {
   "cell_type": "code",
   "execution_count": 84,
   "metadata": {},
   "outputs": [
    {
     "name": "stdout",
     "output_type": "stream",
     "text": [
      "[autogen.oai.client: 09-20 05:34:20] {184} WARNING - The API key specified is not a valid OpenAI format; it won't work with the OpenAI-hosted model.\n"
     ]
    }
   ],
   "source": [
    "writer = autogen.ConversableAgent(\n",
    "    name=\"Writer\",\n",
    "    llm_config=llm_config,\n",
    "    system_message=\"Writer.\"\n",
    "    \"Please write blogs in markdown format (with relevant titles)\"\n",
    "    \" and put the content in pseudo ```md``` code block. \"\n",
    "    \"You take feedback from the admin and refine your blog.\",\n",
    "    description=\"Writer.\"\n",
    "    \"Write blogs based on the code execution results and take \"\n",
    "    \"feedback from the admin to refine the blog.\"\n",
    ")"
   ]
  },
  {
   "cell_type": "code",
   "execution_count": 85,
   "metadata": {},
   "outputs": [],
   "source": [
    "groupchat = autogen.GroupChat(\n",
    "    agents=[user_proxy, engineer, writer, executor, planner],\n",
    "    messages=[],\n",
    "    max_round=10,\n",
    ")"
   ]
  },
  {
   "cell_type": "code",
   "execution_count": 86,
   "metadata": {},
   "outputs": [
    {
     "name": "stdout",
     "output_type": "stream",
     "text": [
      "[autogen.oai.client: 09-20 05:34:21] {184} WARNING - The API key specified is not a valid OpenAI format; it won't work with the OpenAI-hosted model.\n"
     ]
    }
   ],
   "source": [
    "manager = autogen.GroupChatManager(\n",
    "    groupchat=groupchat, llm_config=llm_config\n",
    ")\n"
   ]
  },
  {
   "cell_type": "code",
   "execution_count": 87,
   "metadata": {},
   "outputs": [],
   "source": [
    "groupchat = autogen.GroupChat(\n",
    "    agents=[user_proxy, engineer, writer, executor, planner],\n",
    "    messages=[],\n",
    "    max_round=20,\n",
    "    allowed_or_disallowed_speaker_transitions={\n",
    "        user_proxy: [engineer, writer, executor, planner],\n",
    "        engineer: [executor],\n",
    "        writer: [user_proxy, planner],\n",
    "        executor: [user_proxy, engineer, planner],\n",
    "        planner: [engineer, writer],\n",
    "    },\n",
    "    speaker_transitions_type=\"allowed\",\n",
    ")"
   ]
  },
  {
   "cell_type": "code",
   "execution_count": null,
   "metadata": {},
   "outputs": [],
   "source": [
    "manager = autogen.GroupChatManager(\n",
    "    groupchat=groupchat, llm_config=llm_config\n",
    ")\n",
    "\n",
    "groupchat_result = user_proxy.initiate_chat(\n",
    "    manager,\n",
    "    message=task,\n",
    ")"
   ]
  }
 ],
 "metadata": {
  "kernelspec": {
   "display_name": "pyautogen",
   "language": "python",
   "name": "python3"
  },
  "language_info": {
   "codemirror_mode": {
    "name": "ipython",
    "version": 3
   },
   "file_extension": ".py",
   "mimetype": "text/x-python",
   "name": "python",
   "nbconvert_exporter": "python",
   "pygments_lexer": "ipython3",
   "version": "3.10.14"
  }
 },
 "nbformat": 4,
 "nbformat_minor": 2
}
